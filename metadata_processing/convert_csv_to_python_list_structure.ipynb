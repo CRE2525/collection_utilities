{
 "cells": [
  {
   "cell_type": "code",
   "execution_count": 1,
   "metadata": {
    "collapsed": true
   },
   "outputs": [],
   "source": [
    "# Purpose: Reads a csv and converts into a python datastructure\n",
    "# Use: Useful if you need the data in a particular data structure to power a visualizaiton"
   ]
  },
  {
   "cell_type": "code",
   "execution_count": null,
   "metadata": {
    "collapsed": true
   },
   "outputs": [],
   "source": [
    "import numpy as np\n",
    "import pandas as pd"
   ]
  },
  {
   "cell_type": "code",
   "execution_count": 11,
   "metadata": {
    "scrolled": true
   },
   "outputs": [
    {
     "data": {
      "text/plain": [
       "name      object\n",
       "number     int64\n",
       "dtype: object"
      ]
     },
     "execution_count": 11,
     "metadata": {},
     "output_type": "execute_result"
    }
   ],
   "source": [
    "df1 = pd.read_csv(\"data/legacy.csv\")\n",
    "df1.dtypes"
   ]
  },
  {
   "cell_type": "code",
   "execution_count": 23,
   "metadata": {
    "scrolled": true
   },
   "outputs": [
    {
     "data": {
      "text/plain": [
       "[{'Count': '20', 'Name': 'General Election'},\n",
       " {'Count': '18', 'Name': 'Party Candidacy'},\n",
       " {'Count': '10', 'Name': 'Official Language Act'},\n",
       " {'Count': '9', 'Name': 'Sinhala Only Act'},\n",
       " {'Count': '8', 'Name': 'Ceylon citizenship'},\n",
       " {'Count': '7', 'Name': 'Tamil schools'},\n",
       " {'Count': '6', 'Name': 'Tamil Language Special Provisions Act'},\n",
       " {'Count': '6', 'Name': 'Tamil public servants'},\n",
       " {'Count': '5', 'Name': 'ITAK Central Working Committee'},\n",
       " {'Count': '5', 'Name': 'ITAK General Council'},\n",
       " {'Count': '5', 'Name': 'Tamil language rights'},\n",
       " {'Count': '4', 'Name': 'Detention'},\n",
       " {'Count': '4', 'Name': 'Emergency Regulations'},\n",
       " {'Count': '4', 'Name': 'ITAK branches'},\n",
       " {'Count': '4', 'Name': 'Language rights'},\n",
       " {'Count': '4', 'Name': 'Party Membership'},\n",
       " {'Count': '4', 'Name': 'Satyagraha'},\n",
       " {'Count': '4', 'Name': 'The Sutantiran'},\n",
       " {'Count': '4', 'Name': 'Trade Unions'},\n",
       " {'Count': '3', 'Name': 'Ceylon Daily News'},\n",
       " {'Count': '3', 'Name': 'Chelvanayakam Memorial Lectures'},\n",
       " {'Count': '3', 'Name': 'Clerical service'},\n",
       " {'Count': '3', 'Name': 'Colonisation'},\n",
       " {'Count': '3', 'Name': 'Direct Action'},\n",
       " {'Count': '3', 'Name': 'District Councils'},\n",
       " {'Count': '3', 'Name': 'Elections'},\n",
       " {'Count': '3', 'Name': 'Fishing Industry'},\n",
       " {'Count': '3', 'Name': 'Kankesanthurai harbour'},\n",
       " {'Count': '3', 'Name': 'Labour Unions'},\n",
       " {'Count': '3', 'Name': 'Posters'},\n",
       " {'Count': '3', 'Name': 'Pottuvil Electorate'},\n",
       " {'Count': '3', 'Name': 'Sinhala Colonisation'},\n",
       " {'Count': '3', 'Name': 'Tamil United Front'}]"
      ]
     },
     "execution_count": 23,
     "metadata": {},
     "output_type": "execute_result"
    }
   ],
   "source": [
    "dic_list = []\n",
    "for index, row in df1.iterrows():\n",
    "    name = str(row[\"name\"])\n",
    "    number = str(row[\"number\"])\n",
    "    if row[\"number\"] > 2:\n",
    "        dic = {\"Name\": name, \"Count\": number}\n",
    "        dic_list.append(dic)\n",
    "    \n",
    "dic_list"
   ]
  },
  {
   "cell_type": "code",
   "execution_count": null,
   "metadata": {
    "collapsed": true
   },
   "outputs": [],
   "source": []
  }
 ],
 "metadata": {
  "kernelspec": {
   "display_name": "Python 3",
   "language": "python",
   "name": "python3"
  },
  "language_info": {
   "codemirror_mode": {
    "name": "ipython",
    "version": 3
   },
   "file_extension": ".py",
   "mimetype": "text/x-python",
   "name": "python",
   "nbconvert_exporter": "python",
   "pygments_lexer": "ipython3",
   "version": "3.6.9"
  }
 },
 "nbformat": 4,
 "nbformat_minor": 2
}
