{
 "cells": [
  {
   "cell_type": "code",
   "execution_count": 1,
   "metadata": {
    "collapsed": true
   },
   "outputs": [],
   "source": [
    "# Renames and copies into a different location"
   ]
  },
  {
   "cell_type": "code",
   "execution_count": null,
   "metadata": {
    "collapsed": true
   },
   "outputs": [],
   "source": [
    "import numpy as np\n",
    "import pandas as pd\n",
    "import os\n",
    "import glob\n",
    "from shutil import copyfile"
   ]
  },
  {
   "cell_type": "code",
   "execution_count": 4,
   "metadata": {},
   "outputs": [
    {
     "name": "stdout",
     "output_type": "stream",
     "text": [
      "nearbystudies_1105_TRANSCRIPT.vtt\n",
      "nearbystudies_1127_TRANSCRIPT.vtt\n",
      "nearbystudies_418_TRANSCRIPT.vtt\n",
      "nearbystudies_977_TRANSCRIPT.vtt\n",
      "nearbystudies_548_TRANSCRIPT.vtt\n",
      "nearbystudies_536_TRANSCRIPT.vtt\n",
      "nearbystudies_844_TRANSCRIPT.vtt\n",
      "nearbystudies_973_TRANSCRIPT.vtt\n",
      "nearbystudies_406_TRANSCRIPT.vtt\n",
      "nearbystudies_401_TRANSCRIPT.vtt\n",
      "nearbystudies_1138_TRANSCRIPT.vtt\n",
      "nearbystudies_534_TRANSCRIPT.vtt\n",
      "nearbystudies_538_TRANSCRIPT.vtt\n",
      "nearbystudies_1029_TRANSCRIPT.vtt\n",
      "nearbystudies_520_TRANSCRIPT.vtt\n",
      "nearbystudies_612_TRANSCRIPT.vtt\n",
      "nearbystudies_1109_TRANSCRIPT.vtt\n",
      "nearbystudies_415_TRANSCRIPT.vtt\n",
      "nearbystudies_531_TRANSCRIPT.vtt\n",
      "nearbystudies_425_TRANSCRIPT.vtt\n",
      "nearbystudies_1024_TRANSCRIPT.vtt\n",
      "nearbystudies_422_TRANSCRIPT.vtt\n",
      "nearbystudies_1092_TRANSCRIPT.vtt\n",
      "nearbystudies_419_TRANSCRIPT.vtt\n",
      "nearbystudies_382_TRANSCRIPT.vtt\n",
      "nearbystudies_976_TRANSCRIPT.vtt\n",
      "nearbystudies_964_TRANSCRIPT.vtt\n",
      "nearbystudies_960_TRANSCRIPT.vtt\n",
      "nearbystudies_580_TRANSCRIPT.vtt\n",
      "nearbystudies_1121_TRANSCRIPT.vtt\n",
      "nearbystudies_1140_TRANSCRIPT.vtt\n",
      "nearbystudies_530_TRANSCRIPT.vtt\n",
      "nearbystudies_1131_TRANSCRIPT.vtt\n",
      "nearbystudies_1141_TRANSCRIPT.vtt\n",
      "nearbystudies_539_TRANSCRIPT.vtt\n",
      "nearbystudies_526_TRANSCRIPT.vtt\n",
      "nearbystudies_518_TRANSCRIPT.vtt\n",
      "nearbystudies_417_TRANSCRIPT.vtt\n",
      "nearbystudies_528_TRANSCRIPT.vtt\n",
      "nearbystudies_574_TRANSCRIPT.vtt\n",
      "nearbystudies_533_TRANSCRIPT.vtt\n",
      "nearbystudies_362_TRANSCRIPT.vtt\n",
      "nearbystudies_1104_TRANSCRIPT.vtt\n",
      "nearbystudies_978_TRANSCRIPT.vtt\n",
      "nearbystudies_1122_TRANSCRIPT.vtt\n",
      "nearbystudies_970_TRANSCRIPT.vtt\n",
      "nearbystudies_974_TRANSCRIPT.vtt\n",
      "nearbystudies_948_TRANSCRIPT.vtt\n",
      "nearbystudies_975_TRANSCRIPT.vtt\n",
      "nearbystudies_967_TRANSCRIPT.vtt\n",
      "nearbystudies_1129_TRANSCRIPT.vtt\n"
     ]
    }
   ],
   "source": [
    "files = glob.glob(\"/home/nat/Desktop/metadata_swiss_knife/data/nearby_transcripts/*.*\")\n",
    "\n",
    "for file in files: \n",
    "    path, file_name = os.path.split(file)\n",
    "    new_file_name = file_name.replace(\"VTT\", \"TRANSCRIPT\")\n",
    "    \n",
    "    print(new_file_name)\n",
    "    copyfile(file, \"/home/nat/Desktop/metadata_swiss_knife/data/nearby_transcripts2/\" + new_file_name)   \n",
    "    "
   ]
  },
  {
   "cell_type": "code",
   "execution_count": null,
   "metadata": {
    "collapsed": true
   },
   "outputs": [],
   "source": []
  }
 ],
 "metadata": {
  "kernelspec": {
   "display_name": "Python 3",
   "language": "python",
   "name": "python3"
  },
  "language_info": {
   "codemirror_mode": {
    "name": "ipython",
    "version": 3
   },
   "file_extension": ".py",
   "mimetype": "text/x-python",
   "name": "python",
   "nbconvert_exporter": "python",
   "pygments_lexer": "ipython3",
   "version": "3.6.9"
  }
 },
 "nbformat": 4,
 "nbformat_minor": 2
}
