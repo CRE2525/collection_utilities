{
 "cells": [
  {
   "cell_type": "code",
   "execution_count": null,
   "metadata": {},
   "outputs": [],
   "source": [
    "import pandas as pd\n",
    "import os\n",
    "import re"
   ]
  },
  {
   "cell_type": "code",
   "execution_count": null,
   "metadata": {},
   "outputs": [],
   "source": [
    "#Global variables\n",
    "image_pid_column_name = 'mods_URI_PID'\n",
    "rotate_info_column_name = 'Process Orientation'\n",
    "REGEX = r'^Rotate (.*) (CW|CCW)$'\n",
    "images_source_dir = \"\"\n",
    "images_target_dir = \"\"\n",
    "metadata_file = \"data/metadata.csv\""
   ]
  },
  {
   "cell_type": "code",
   "execution_count": null,
   "metadata": {},
   "outputs": [],
   "source": [
    "# Lookup a column value by another column name and value in a dataframe\n",
    "def lookup_df_value_column_value(df, key_col, key_val, val_col, idx=0):\n",
    "    try:\n",
    "        result_df = df.loc[df[key_col] == key_val].iloc[0]\n",
    "        value = result_df[val_col]\n",
    "        return value\n",
    "    except IndexError:\n",
    "        return 0"
   ]
  },
  {
   "cell_type": "code",
   "execution_count": null,
   "metadata": {},
   "outputs": [],
   "source": [
    "def rotate_image(image_filename, pid, metadata_df):\n",
    "    # Get the photoservice number and search for it in the \n",
    "    split_rotation_value = lookup_df_value_column_value(metadata_df, image_pid_column_name, pid, rotate_info_column_name, idx=0)\n",
    "    if str(split_rotation_value) == \"0\":\n",
    "        print(\"Not able to rotate \" + image_filename)\n",
    "        return\n",
    "    \n",
    "    # Get rotation info\n",
    "    split_rotation = re.search(REGEX, str(split_rotation_value))\n",
    "    degree = split_rotation.group(1)\n",
    "    direction = split_rotation.group(2)\n",
    "    # Negate the degree if the direction is counterclockwise\n",
    "    if direction == 'CCW':\n",
    "         degree = '-'+degree\n",
    "    \n",
    "    os.system('convert -rotate '+degree+' '+images_source_dir+image_filename+' '+images_target_dir + \"/\"+image_filename)"
   ]
  },
  {
   "cell_type": "code",
   "execution_count": null,
   "metadata": {},
   "outputs": [],
   "source": [
    "def main():\n",
    "    # read the metadata\n",
    "    metadata_df = pd.read_csv(metadata_file, usecols = [image_pid_column_name, rotate_info_column_name], dtype = {image_pid_column_name: \"string\", rotate_info_column_name: \"string\"})\n",
    "\n",
    "    # Create the directory for the result if doesn't exist already\n",
    "    if not os.path.isdir(images_target_dir):\n",
    "        os.mkdir(images_target_dir)\n",
    "     \n",
    "    # loop through source dir images and rotate them\n",
    "    print(\"Being rotating images from \" + images_source_dir)\n",
    "    for image_filename in os.listdir(images_source_dir):\n",
    "        pid = image_filename.split(\".\")[0]\n",
    "        pid = pid.replace(\"_OBJ\", \"\")\n",
    "        pid = pid.replace(\"_\", \":\")\n",
    "        rotate_image(image_filename, pid, metadata_df)\n",
    "    print(\"Completed rotating images from \" + images_source_dir)"
   ]
  },
  {
   "cell_type": "code",
   "execution_count": null,
   "metadata": {},
   "outputs": [],
   "source": [
    "if __name__ == '__main__':\n",
    "    main()"
   ]
  },
  {
   "cell_type": "code",
   "execution_count": null,
   "metadata": {},
   "outputs": [],
   "source": []
  },
  {
   "cell_type": "code",
   "execution_count": null,
   "metadata": {},
   "outputs": [],
   "source": []
  }
 ],
 "metadata": {
  "kernelspec": {
   "display_name": "Python 3",
   "language": "python",
   "name": "python3"
  },
  "language_info": {
   "codemirror_mode": {
    "name": "ipython",
    "version": 3
   },
   "file_extension": ".py",
   "mimetype": "text/x-python",
   "name": "python",
   "nbconvert_exporter": "python",
   "pygments_lexer": "ipython3",
   "version": "3.7.7"
  }
 },
 "nbformat": 4,
 "nbformat_minor": 2
}
