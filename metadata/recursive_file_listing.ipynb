{
 "cells": [
  {
   "cell_type": "code",
   "execution_count": 60,
   "metadata": {
    "collapsed": true
   },
   "outputs": [],
   "source": [
    "import numpy as np\n",
    "import pandas as pd\n",
    "import os\n",
    "import time \n",
    "from datetime import date"
   ]
  },
  {
   "cell_type": "code",
   "execution_count": 65,
   "metadata": {
    "collapsed": true
   },
   "outputs": [],
   "source": [
    "folder_path = 'data/Dragomans'"
   ]
  },
  {
   "cell_type": "code",
   "execution_count": 66,
   "metadata": {
    "collapsed": true
   },
   "outputs": [],
   "source": [
    "files = []\n",
    "files_metadata_df = pd.DataFrame()\n",
    "\n",
    "for root,d_names,f_names in os.walk(folder_path):\n",
    "    for f in f_names:\n",
    "        files.append(os.path.join(root, f))\n",
    "        \n",
    "for file in files:        \n",
    "    modification_time = os.path.getmtime(file) \n",
    "    local_time = time.strftime('%Y-%m-%d', time.gmtime(os.path.getmtime(file)))\n",
    "    file_path = file.replace(\"data/\", \"\")\n",
    "    files_metadata_df = files_metadata_df.append({'file_path': file_path, 'last_modified_date': local_time}, ignore_index=True)"
   ]
  },
  {
   "cell_type": "code",
   "execution_count": 70,
   "metadata": {},
   "outputs": [
    {
     "data": {
      "text/plain": [
       "(680, 2)"
      ]
     },
     "execution_count": 70,
     "metadata": {},
     "output_type": "execute_result"
    }
   ],
   "source": [
    "files_metadata_df.shape"
   ]
  },
  {
   "cell_type": "code",
   "execution_count": 68,
   "metadata": {},
   "outputs": [
    {
     "data": {
      "text/html": [
       "<div>\n",
       "<style>\n",
       "    .dataframe thead tr:only-child th {\n",
       "        text-align: right;\n",
       "    }\n",
       "\n",
       "    .dataframe thead th {\n",
       "        text-align: left;\n",
       "    }\n",
       "\n",
       "    .dataframe tbody tr th {\n",
       "        vertical-align: top;\n",
       "    }\n",
       "</style>\n",
       "<table border=\"1\" class=\"dataframe\">\n",
       "  <thead>\n",
       "    <tr style=\"text-align: right;\">\n",
       "      <th></th>\n",
       "      <th>file_path</th>\n",
       "      <th>last_modified_date</th>\n",
       "    </tr>\n",
       "  </thead>\n",
       "  <tbody>\n",
       "    <tr>\n",
       "      <th>609</th>\n",
       "      <td>Dragomans/Cleaned Spreadsheets/2018/03 Ted Cle...</td>\n",
       "      <td>2020-01-06</td>\n",
       "    </tr>\n",
       "    <tr>\n",
       "      <th>604</th>\n",
       "      <td>Dragomans/Cleaned Spreadsheets/2018/02 For Ted...</td>\n",
       "      <td>2020-01-06</td>\n",
       "    </tr>\n",
       "    <tr>\n",
       "      <th>598</th>\n",
       "      <td>Dragomans/Cleaned Spreadsheets/2018/04 Final_D...</td>\n",
       "      <td>2020-01-06</td>\n",
       "    </tr>\n",
       "    <tr>\n",
       "      <th>596</th>\n",
       "      <td>Dragomans/Cleaned Spreadsheets/2018/04 Final_D...</td>\n",
       "      <td>2020-01-06</td>\n",
       "    </tr>\n",
       "    <tr>\n",
       "      <th>583</th>\n",
       "      <td>Dragomans/Cleaned Spreadsheets/2018/04 Final_D...</td>\n",
       "      <td>2020-01-06</td>\n",
       "    </tr>\n",
       "    <tr>\n",
       "      <th>66</th>\n",
       "      <td>Dragomans/Data Sources/Documents - Italian - V...</td>\n",
       "      <td>2019-12-30</td>\n",
       "    </tr>\n",
       "    <tr>\n",
       "      <th>13</th>\n",
       "      <td>Dragomans/Seed of an Ontology - Relatedness of...</td>\n",
       "      <td>2019-09-16</td>\n",
       "    </tr>\n",
       "    <tr>\n",
       "      <th>65</th>\n",
       "      <td>Dragomans/Data Sources/Documents - Italian.xlsx</td>\n",
       "      <td>2019-08-19</td>\n",
       "    </tr>\n",
       "    <tr>\n",
       "      <th>269</th>\n",
       "      <td>Dragomans/Data Sources/Documents - Italian - V...</td>\n",
       "      <td>2019-07-03</td>\n",
       "    </tr>\n",
       "    <tr>\n",
       "      <th>272</th>\n",
       "      <td>Dragomans/Data Sources/Documents - Italian - V...</td>\n",
       "      <td>2019-07-03</td>\n",
       "    </tr>\n",
       "  </tbody>\n",
       "</table>\n",
       "</div>"
      ],
      "text/plain": [
       "                                             file_path last_modified_date\n",
       "609  Dragomans/Cleaned Spreadsheets/2018/03 Ted Cle...         2020-01-06\n",
       "604  Dragomans/Cleaned Spreadsheets/2018/02 For Ted...         2020-01-06\n",
       "598  Dragomans/Cleaned Spreadsheets/2018/04 Final_D...         2020-01-06\n",
       "596  Dragomans/Cleaned Spreadsheets/2018/04 Final_D...         2020-01-06\n",
       "583  Dragomans/Cleaned Spreadsheets/2018/04 Final_D...         2020-01-06\n",
       "66   Dragomans/Data Sources/Documents - Italian - V...         2019-12-30\n",
       "13   Dragomans/Seed of an Ontology - Relatedness of...         2019-09-16\n",
       "65     Dragomans/Data Sources/Documents - Italian.xlsx         2019-08-19\n",
       "269  Dragomans/Data Sources/Documents - Italian - V...         2019-07-03\n",
       "272  Dragomans/Data Sources/Documents - Italian - V...         2019-07-03"
      ]
     },
     "execution_count": 68,
     "metadata": {},
     "output_type": "execute_result"
    }
   ],
   "source": [
    "files_metadata_df['last_modified_date'] = pd.to_datetime(files_metadata_df.last_modified_date)\n",
    "files_metadata_df.sort_values(by=['last_modified_date'], inplace=True, ascending=False)\n",
    "files_metadata_df.head(10)"
   ]
  },
  {
   "cell_type": "code",
   "execution_count": 69,
   "metadata": {
    "collapsed": true
   },
   "outputs": [],
   "source": [
    "files_metadata_df.to_csv(\"reports/dragomans_google_drive_files.csv\", index=False)"
   ]
  },
  {
   "cell_type": "code",
   "execution_count": null,
   "metadata": {
    "collapsed": true
   },
   "outputs": [],
   "source": []
  }
 ],
 "metadata": {
  "kernelspec": {
   "display_name": "Python 3",
   "language": "python",
   "name": "python3"
  },
  "language_info": {
   "codemirror_mode": {
    "name": "ipython",
    "version": 3
   },
   "file_extension": ".py",
   "mimetype": "text/x-python",
   "name": "python",
   "nbconvert_exporter": "python",
   "pygments_lexer": "ipython3",
   "version": "3.6.9"
  }
 },
 "nbformat": 4,
 "nbformat_minor": 2
}
