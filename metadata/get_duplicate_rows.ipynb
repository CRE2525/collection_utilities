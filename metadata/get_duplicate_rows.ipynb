{
 "cells": [
  {
   "cell_type": "code",
   "execution_count": 1,
   "metadata": {
    "collapsed": true
   },
   "outputs": [],
   "source": [
    "import pandas as pd\n",
    "import numpy as np"
   ]
  },
  {
   "cell_type": "code",
   "execution_count": 2,
   "metadata": {},
   "outputs": [
    {
     "data": {
      "text/html": [
       "<div>\n",
       "<style>\n",
       "    .dataframe thead tr:only-child th {\n",
       "        text-align: right;\n",
       "    }\n",
       "\n",
       "    .dataframe thead th {\n",
       "        text-align: left;\n",
       "    }\n",
       "\n",
       "    .dataframe tbody tr th {\n",
       "        vertical-align: top;\n",
       "    }\n",
       "</style>\n",
       "<table border=\"1\" class=\"dataframe\">\n",
       "  <thead>\n",
       "    <tr style=\"text-align: right;\">\n",
       "      <th></th>\n",
       "      <th>pid</th>\n",
       "      <th>local_id</th>\n",
       "      <th>parent</th>\n",
       "      <th>mods_genre_ms</th>\n",
       "      <th>Title</th>\n",
       "    </tr>\n",
       "  </thead>\n",
       "  <tbody>\n",
       "    <tr>\n",
       "      <th>0</th>\n",
       "      <td>harleyspiller:2203</td>\n",
       "      <td>1-1-1</td>\n",
       "      <td>info:fedora/harleyspiller:collection</td>\n",
       "      <td>menus</td>\n",
       "      <td>[Businessmans lunch and various menus]</td>\n",
       "    </tr>\n",
       "    <tr>\n",
       "      <th>1</th>\n",
       "      <td>harleyspiller:9928</td>\n",
       "      <td>1-1-1</td>\n",
       "      <td>info:fedora/harleyspiller:collection</td>\n",
       "      <td>menus</td>\n",
       "      <td>[Businessmans lunch and various menus]</td>\n",
       "    </tr>\n",
       "  </tbody>\n",
       "</table>\n",
       "</div>"
      ],
      "text/plain": [
       "                  pid local_id                                parent  \\\n",
       "0  harleyspiller:2203    1-1-1  info:fedora/harleyspiller:collection   \n",
       "1  harleyspiller:9928    1-1-1  info:fedora/harleyspiller:collection   \n",
       "\n",
       "  mods_genre_ms                                   Title  \n",
       "0         menus  [Businessmans lunch and various menus]  \n",
       "1         menus  [Businessmans lunch and various menus]  "
      ]
     },
     "execution_count": 2,
     "metadata": {},
     "output_type": "execute_result"
    }
   ],
   "source": [
    "df1 = pd.read_csv('data/harley-spiller-workflow-csv-2-aug-2020-v2.csv') \n",
    "df1.head(2)"
   ]
  },
  {
   "cell_type": "code",
   "execution_count": null,
   "metadata": {
    "collapsed": true
   },
   "outputs": [],
   "source": []
  }
 ],
 "metadata": {
  "kernelspec": {
   "display_name": "Python 3",
   "language": "python",
   "name": "python3"
  },
  "language_info": {
   "codemirror_mode": {
    "name": "ipython",
    "version": 3
   },
   "file_extension": ".py",
   "mimetype": "text/x-python",
   "name": "python",
   "nbconvert_exporter": "python",
   "pygments_lexer": "ipython3",
   "version": "3.6.9"
  }
 },
 "nbformat": 4,
 "nbformat_minor": 2
}
