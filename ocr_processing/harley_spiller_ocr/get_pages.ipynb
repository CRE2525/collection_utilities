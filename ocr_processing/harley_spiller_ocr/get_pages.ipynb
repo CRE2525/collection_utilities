{
 "cells": [
  {
   "cell_type": "code",
   "execution_count": 91,
   "metadata": {},
   "outputs": [
    {
     "name": "stdout",
     "output_type": "stream",
     "text": [
      "Number of pages to run OCR on:  0\n",
      "Total number of pages:  0\n"
     ]
    }
   ],
   "source": [
    "import pandas as pd\n",
    "import numpy as np\n",
    "\n",
    "# Create data sets from comma seperated value files\n",
    "books_df = pd.read_csv('harley_spiller_books_in_public_collections.csv')\n",
    "pages_df = pd.read_csv('harley_spiller_all_pages.csv')\n",
    "\n",
    "# Open up a text file to write to\n",
    "with open(\"test.txt\", \"a\") as f:\n",
    "    # Loop through all rows\n",
    "    for index, row in pages_df.iterrows():\n",
    "        # Get corresponding book and it's PID\n",
    "        page_of = row[2]\n",
    "        pid = page_of[12:]\n",
    "        \n",
    "        # Check if PID is in books data set\n",
    "        exists = pid in books_df.pid.values\n",
    "        \n",
    "        # Write to new file if it is\n",
    "        if exists:\n",
    "            f.writelines(row[0] + '\\n')\n",
    "            \n",
    "f.close()"
   ]
  }
 ],
 "metadata": {
  "kernelspec": {
   "display_name": "Python 3",
   "language": "python",
   "name": "python3"
  },
  "language_info": {
   "codemirror_mode": {
    "name": "ipython",
    "version": 3
   },
   "file_extension": ".py",
   "mimetype": "text/x-python",
   "name": "python",
   "nbconvert_exporter": "python",
   "pygments_lexer": "ipython3",
   "version": "3.7.7"
  }
 },
 "nbformat": 4,
 "nbformat_minor": 2
}
